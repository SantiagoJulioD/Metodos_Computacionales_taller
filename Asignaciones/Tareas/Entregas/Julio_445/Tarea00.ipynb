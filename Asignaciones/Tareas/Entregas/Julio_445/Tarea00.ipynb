{
 "cells": [
  {
   "cell_type": "markdown",
   "metadata": {
    "id": "FRH6ZoPM4KeX"
   },
   "source": [
    "# Taller 0.0 de métodos computacionales para físicos  y astrónomos\n",
    "\n",
    "\n",
    "\n",
    "## Universidad de Antioquia\n",
    "### Profesor: Hernan D. Salinas Jiménez\n"
   ]
  },
  {
   "cell_type": "markdown",
   "metadata": {
    "id": "3IwaMxgT4Kee"
   },
   "source": [
    "## Taller: Sesion 0.0"
   ]
  },
  {
   "cell_type": "markdown",
   "metadata": {
    "id": "SV5BAn7x4Kef"
   },
   "source": [
    "## Unidad 1: \n",
    "\n",
    "Contenido Actitudinal: Observar como el computador produce errores en los cálculos. El computador no maneja infinitas cifras decimales.\n",
    "\n",
    "- Repaso breve del Python\n",
    "- Estructura básica de un programa en Python.\n",
    "- Numpy y rutinas de graficación.\n",
    "- Operaciones aritméticas con reales y complejos.\n",
    "- Números aleatorios, método del congruente lineal y problemas.\n",
    "- Errores: redondeo, truncamiento, sustracción cancelativa, precisiónde la máquina.\n",
    "- Algoritmos"
   ]
  },
  {
   "cell_type": "markdown",
   "metadata": {
    "id": "dgZqZVpe4Kef"
   },
   "source": [
    "## Instrucciones de entrega\n",
    "\n",
    "\n",
    "\n",
    "\n",
    "\n",
    "\n"
   ]
  },
  {
   "cell_type": "markdown",
   "metadata": {
    "id": "J6GPf6qe4Keg"
   },
   "source": [
    "## Problemas\n",
    "1. Elaborar un algoritmo e implementar en python, el factorial de un número entero `n` ingresado por el usuario.\n",
    "     ### Ejemplo de Ejecución\n",
    "    ```python\n",
    "\n",
    "    >>> factorial(3)\n",
    "        6\n",
    "\n",
    "    >>> factorial(1987123)\n",
    "        =???\n",
    "```\n"
   ]
  },
  {
   "cell_type": "code",
   "execution_count": 1,
   "metadata": {},
   "outputs": [],
   "source": [
    "import numpy as np #import numpy library"
   ]
  },
  {
   "cell_type": "code",
   "execution_count": 2,
   "metadata": {},
   "outputs": [
    {
     "name": "stdin",
     "output_type": "stream",
     "text": [
      "Ingrese un número entero no negativo: 25\n"
     ]
    }
   ],
   "source": [
    "while True:\n",
    "    try:\n",
    "        n=int(input('Ingrese un número entero no negativo:')) #ask user for a non-negative integer number\n",
    "        if n<0:\n",
    "            print('Valor no válido. Por favor ingrese un valor válido.')  #asks for another number if the integer is negative\n",
    "            pass\n",
    "        else:\n",
    "            break  #ends the cycle\n",
    "    except:\n",
    "        print('Valor no válido. Por favor ingrese un valor válido.')  #asks for correct value if the input is not an integer"
   ]
  },
  {
   "cell_type": "code",
   "execution_count": 3,
   "metadata": {},
   "outputs": [],
   "source": [
    "def factorial(a):\n",
    "    if a==0:\n",
    "        fact=1  #defines 0!\n",
    "    else:\n",
    "        fact=1  #establishes the initial value of the product in one \n",
    "        for i in range(1,a+1):\n",
    "            fact=fact*i  #multiplies the product variable by all integers from 1 to a\n",
    "    return print(f'{a}!={fact}')"
   ]
  },
  {
   "cell_type": "code",
   "execution_count": 4,
   "metadata": {},
   "outputs": [
    {
     "name": "stdout",
     "output_type": "stream",
     "text": [
      "25!=15511210043330985984000000\n"
     ]
    }
   ],
   "source": [
    "factorial(n)"
   ]
  },
  {
   "cell_type": "markdown",
   "metadata": {
    "id": "9-JZw0Do4Keg"
   },
   "source": [
    "2. Diseñar un programa que lea dos números `a` y `b` y diga qué tipo de número son, de acuerdo a la siguiente clasificación:\n",
    "\n",
    " >- [Números defectivos](https://es.wikipedia.org/wiki/Número_defectivo) : la suma de los divisores propios es menor que el número.\n",
    " >- [Números abundantes](https://es.wikipedia.org/wiki/Número_abundante): la suma de los divisores es mayor que el número.\n",
    " >- [Números amigos](https://es.wikipedia.org/wiki/N%C3%BAmeros_amigos) `a` y `b` tales que a es la suma de los divisores propios de `b` y viceversa.\n",
    " >- [Números semiperfectos](https://es.wikipedia.org/wiki/N%C3%BAmero_semiperfecto) la suma de todos o algunos de los divisores propios es igual al número.\n",
    " >- [Números perfectos](https://es.wikipedia.org/wiki/N%C3%BAmero_perfecto) la suma de todos sus divisores propios, excepto el mismo numero, es igual al número.\n",
    " >- [Números primos](https://es.wikipedia.org/wiki/N%C3%BAmero_primo) el número es divisible unicamente por sí mismo y por 1.\n",
    " "
   ]
  },
  {
   "cell_type": "markdown",
   "metadata": {
    "id": "cARSuKs_4Keh"
   },
   "source": [
    " ### Ejemplo de Ejecución\n",
    "``` python\n",
    "\n",
    "    >>> clase_numero(a = 220, b =  284)\n",
    "        a = 220 y b = 284 son números amigos\n",
    "\n",
    "    >>> clase_numero(a = 24, b = 12 )\n",
    "        a = 24 es un numero abudante y b = 12 es un número defectivo. \n",
    "```\n"
   ]
  },
  {
   "cell_type": "code",
   "execution_count": 5,
   "metadata": {
    "id": "v-WgFWlLGxO-"
   },
   "outputs": [
    {
     "name": "stdin",
     "output_type": "stream",
     "text": [
      "Ingrese un número entero no negativo: 153469\n",
      "Ingrese un número entero no negativo: 23215\n"
     ]
    }
   ],
   "source": [
    "while True:\n",
    "    try:\n",
    "        a=int(input('Ingrese un número entero no negativo:')) #ask user for a non-negative integer number\n",
    "        if a<0:\n",
    "            print('Valor no válido. Por favor ingrese un valor válido.')  #asks for another number if the integer is negative\n",
    "            pass\n",
    "        else:\n",
    "            break  #ends the cycle\n",
    "    except:\n",
    "        print('Valor no válido. Por favor ingrese un valor válido.')  #asks for correct value if the input is not an integer\n",
    "\n",
    "while True:\n",
    "    try:\n",
    "        b=int(input('Ingrese un número entero no negativo:')) #ask user for a non-negative integer number\n",
    "        if b<0:\n",
    "            print('Valor no válido. Por favor ingrese un valor válido.')  #asks for another number if the integer is negative\n",
    "            pass\n",
    "        else:\n",
    "            break  #ends the cycle\n",
    "    except:\n",
    "        print('Valor no válido. Por favor ingrese un valor válido.')  #asks for correct value if the input is not an integer"
   ]
  },
  {
   "cell_type": "code",
   "execution_count": 6,
   "metadata": {},
   "outputs": [],
   "source": [
    "def prop_div(k):  #returns the list of proper divisors of k\n",
    "    l=[i for i in range(1,k) if k%i==0]\n",
    "    l=np.array(l)\n",
    "    return l"
   ]
  },
  {
   "cell_type": "code",
   "execution_count": 7,
   "metadata": {},
   "outputs": [],
   "source": [
    "def comb(lst,n):     #returns a list with all the possible combinations of n elements of a list\n",
    "    if n==0:\n",
    "        return [[]]\n",
    "    l=[]\n",
    "    for i in range(0,len(lst)):\n",
    "        m=lst[i]\n",
    "        remLst=lst[i+1:]\n",
    "        for p in comb(remLst,n-1):\n",
    "            l.append([m]+p)\n",
    "    return l"
   ]
  },
  {
   "cell_type": "code",
   "execution_count": 8,
   "metadata": {},
   "outputs": [],
   "source": [
    "def subsets(lst):     #returns a list of arrays with all the possible combinations of the elements of a list\n",
    "    subs=[]\n",
    "    for i in range(2,len(lst)+1):\n",
    "        subs=subs+comb(lst,i)\n",
    "    for j in range(len(subs)):\n",
    "        subs[j]=np.array(subs[j])\n",
    "    return subs"
   ]
  },
  {
   "cell_type": "code",
   "execution_count": 9,
   "metadata": {},
   "outputs": [],
   "source": [
    "def semiperfect(n):     #verifies if a given number is semiperfect\n",
    "    combinations=subsets(prop_div(n))\n",
    "    S=[np.sum(combinations[i]) for i in range(len(combinations))]\n",
    "    if any((s==n for s in S)):\n",
    "        return True\n",
    "    else:\n",
    "        return False"
   ]
  },
  {
   "cell_type": "code",
   "execution_count": 10,
   "metadata": {},
   "outputs": [],
   "source": [
    "def clase_numero(a,b):\n",
    "    clase_a=[]   #creates lists for the classes of each number\n",
    "    clase_b=[]\n",
    "    d_a=prop_div(a)\n",
    "    d_b=prop_div(b)\n",
    "    if d_a.size==1:    #verifies if the number is prime\n",
    "        clase_a.append('primo')\n",
    "    if d_b.size==1:\n",
    "        clase_b.append('primo')\n",
    "        \n",
    "    if d_a.sum() < a:     #verifies if the number is deficient\n",
    "        clase_a.append('defectivo')\n",
    "    if d_b.sum() < b:\n",
    "        clase_b.append('defectivo')\n",
    "        \n",
    "    if d_a.sum() > a:     #verifies if the number is abundant\n",
    "        clase_a.append('abundante')\n",
    "    if d_b.sum() > b:\n",
    "        clase_b.append('abundante')\n",
    "        \n",
    "    if d_a.sum() == a:     #verifies if the number is perfect\n",
    "        clase_a.append('perfecto')\n",
    "    if d_b.sum() == b:\n",
    "        clase_b.append('perfecto')\n",
    "        \n",
    "    if semiperfect(a)==True:     #verifies if the number is semiperfect\n",
    "        clase_a.append('sempierfecto')\n",
    "    if semiperfect(b)==True:\n",
    "        clase_b.append('semiperfecto')\n",
    "        \n",
    "    if d_a.sum() == b and d_b.sum() == a:    #verifies if the numbers are amicable\n",
    "        clase_a.append(f'amigo de {b}')\n",
    "        clase_b.append(f'amigo de {a}')\n",
    "        \n",
    "    return print(f'a={a} es un número {clase_a} y b={b} es un número {clase_b}')   #prints the classes of each number"
   ]
  },
  {
   "cell_type": "code",
   "execution_count": 11,
   "metadata": {},
   "outputs": [
    {
     "name": "stdout",
     "output_type": "stream",
     "text": [
      "a=153469 es un número ['primo', 'defectivo'] y b=23215 es un número ['defectivo']\n"
     ]
    }
   ],
   "source": [
    "clase_numero(a,b)"
   ]
  },
  {
   "cell_type": "markdown",
   "metadata": {
    "id": "45A4RWSm4Keh"
   },
   "source": [
    "3. Determine si un número `n` entero ingresado por el usuario es un [palíndromo](https://en.wikipedia.org/wiki/Palindromic_number), (Retorne `True` en caso afirmativo y `False` en caso contrario) \n",
    "\n",
    "```python\n",
    "\n",
    "\n",
    "    >>> palindromo(3333333)\n",
    "        True\n",
    "\n",
    "    >>> palindromo(2323)\n",
    "        True\n",
    "        \n",
    "    >>> palindromo(1111349111111)\n",
    "        False\n",
    "```\n",
    "\n",
    "\n"
   ]
  },
  {
   "cell_type": "code",
   "execution_count": 12,
   "metadata": {
    "id": "vtybv-vA-Yuz"
   },
   "outputs": [
    {
     "name": "stdin",
     "output_type": "stream",
     "text": [
      "Ingrese un número entero no negativo: 11112321111\n"
     ]
    }
   ],
   "source": [
    "while True:\n",
    "    try:\n",
    "        r=int(input('Ingrese un número entero no negativo:')) #ask user for a non-negative integer number\n",
    "        if r<0:\n",
    "            print('Valor no válido. Por favor ingrese un valor válido.')  #asks for another number if the integer is negative\n",
    "            pass\n",
    "        else:\n",
    "            break  #ends the cycle\n",
    "    except:\n",
    "        print('Valor no válido. Por favor ingrese un valor válido.')  #asks for correct value if the input is not an integer"
   ]
  },
  {
   "cell_type": "code",
   "execution_count": 13,
   "metadata": {},
   "outputs": [],
   "source": [
    "def palindromo(a):\n",
    "    a=str(a)\n",
    "    if a==a[::-1]:    #verifies if a number is a palindrome\n",
    "        return True\n",
    "    else:\n",
    "        return False"
   ]
  },
  {
   "cell_type": "code",
   "execution_count": 14,
   "metadata": {},
   "outputs": [
    {
     "data": {
      "text/plain": [
       "True"
      ]
     },
     "execution_count": 14,
     "metadata": {},
     "output_type": "execute_result"
    }
   ],
   "source": [
    "palindromo(r)"
   ]
  },
  {
   "cell_type": "markdown",
   "metadata": {
    "id": "bmQYQxjX4Keh"
   },
   "source": [
    "\n",
    "4. Dada una cadena de caracteres, entregar una lista donde se retorne:\n",
    ">- en la primera casilla: `True` si el caracter del medio es una vocal, `False` en caso contrario \n",
    ">- en la segunda: el numero de vocales en la cadena\n",
    ">- en la tercera: el numero de consonantes\n",
    ">- en la ultima: la cadena de caracteres invertida (ej: perro, orrep)\n",
    "\n",
    "### Ejemplo de Ejecución\n",
    "```python\n",
    "\n",
    ">>> cadena(s ='perro')\n",
    "[False, 2, 3, 'orrep']\n",
    "\n",
    ">>> cadena(s ='murcielago')\n",
    "[True, 5, 5, 'ogaleicrum']\n",
    "\n",
    "```\n"
   ]
  },
  {
   "cell_type": "code",
   "execution_count": 15,
   "metadata": {},
   "outputs": [
    {
     "name": "stdin",
     "output_type": "stream",
     "text": [
      "Ingrese una cadena de caracteres: gato\n"
     ]
    }
   ],
   "source": [
    "s=input('Ingrese una cadena de caracteres:') #ask user for a non-negative integer number  \n",
    "vocales='aeiouáéíóúü'"
   ]
  },
  {
   "cell_type": "code",
   "execution_count": 16,
   "metadata": {},
   "outputs": [],
   "source": [
    "def vocal(n):\n",
    "    n=n.lower()\n",
    "    if len(n)%2==0:   #defines the 'middle character' of a string with even length\n",
    "        if n[(len(n)-1)//2] in vocales and n[((len(n)-1)//2)+1] in vocales:   #verifies if the two middle characters are vowels\n",
    "            return True\n",
    "        else:\n",
    "            return False\n",
    "    else:   #defines the 'middle character' of a string with odd length\n",
    "        me=int(np.median(np.arange(0,len(n))))   #find the index of the middle character —the median\n",
    "        if n[me] in vocales:     #verifies if the middle character is a vowel\n",
    "            return True\n",
    "        else:\n",
    "            return False"
   ]
  },
  {
   "cell_type": "code",
   "execution_count": 17,
   "metadata": {},
   "outputs": [],
   "source": [
    "def num_vocal(n):\n",
    "    n=n.lower()\n",
    "    num_voc=0\n",
    "    for i in range(len(n)):\n",
    "        if n[i] in vocales:\n",
    "            num_voc+=1    #counts the number of vowels in the string\n",
    "        else:\n",
    "            continue\n",
    "    return num_voc"
   ]
  },
  {
   "cell_type": "code",
   "execution_count": 18,
   "metadata": {},
   "outputs": [],
   "source": [
    "def num_conson(n):\n",
    "    n=n.lower()\n",
    "    num_cons=0\n",
    "    for i in range(len(n)):\n",
    "        if n[i] not in vocales:\n",
    "            num_cons+=1     #counts the number of consonants in the string\n",
    "        else:\n",
    "            continue\n",
    "    return num_cons"
   ]
  },
  {
   "cell_type": "code",
   "execution_count": 19,
   "metadata": {},
   "outputs": [],
   "source": [
    "def invertir(n):\n",
    "    return n[::-1]    #inverts the string"
   ]
  },
  {
   "cell_type": "code",
   "execution_count": 20,
   "metadata": {},
   "outputs": [],
   "source": [
    "def cadena(n):\n",
    "    l=[vocal(n),num_vocal(n),num_conson(n),invertir(n)]    #returns a list with the asked values\n",
    "    return l"
   ]
  },
  {
   "cell_type": "code",
   "execution_count": 21,
   "metadata": {},
   "outputs": [
    {
     "data": {
      "text/plain": [
       "[False, 2, 2, 'otag']"
      ]
     },
     "execution_count": 21,
     "metadata": {},
     "output_type": "execute_result"
    }
   ],
   "source": [
    "cadena(s)"
   ]
  },
  {
   "cell_type": "markdown",
   "metadata": {
    "id": "Z6rU_h_q4Kei"
   },
   "source": [
    "\n",
    "5. Elabore un método para calcular el n-ésimo término de la sucesión de fibonacci: \n",
    "\n",
    "$$ f_n = f_{n-1}+f_{n-2}$$\n",
    "\n",
    "Donde $$f_0=0 \\:\\:\\text{ y }\\:\\:f_1=1 $$ así:   $$f_2=1+0=1$$ $$f_3=1+1=2$$  $$f_4=2+1=3$$ y así sucesivamente\n",
    "\n",
    "### Ejemplo de Ejecución\n",
    "```python\n",
    "\n",
    ">>> fibonacci(50)\n",
    "12586269025\n",
    "\n",
    ">>> fibonacci(63)\n",
    "6557470319842\n",
    "```\n"
   ]
  },
  {
   "cell_type": "code",
   "execution_count": 22,
   "metadata": {},
   "outputs": [
    {
     "name": "stdin",
     "output_type": "stream",
     "text": [
      "Ingrese un número entero no negativo: 123\n"
     ]
    }
   ],
   "source": [
    "while True:\n",
    "    try:\n",
    "        f=int(input('Ingrese un número entero no negativo:')) #ask user for a non-negative integer number\n",
    "        if f<0:\n",
    "            print('Valor no válido. Por favor ingrese un valor válido.')  #asks for another number if the integer is negative\n",
    "            pass\n",
    "        else:\n",
    "            break  #ends the cycle\n",
    "    except:\n",
    "        print('Valor no válido. Por favor ingrese un valor válido.')  #asks for correct value if the input is not an integer"
   ]
  },
  {
   "cell_type": "code",
   "execution_count": 23,
   "metadata": {},
   "outputs": [],
   "source": [
    "def fibonacci(n):\n",
    "    if n==0:\n",
    "        return 0\n",
    "    elif n==1:\n",
    "        return 1\n",
    "    else:\n",
    "        fib=np.zeros(n+1)\n",
    "        fib[1]=1\n",
    "        for i in range(2,n+1):\n",
    "            fib[i]=fib[i-1]+fib[i-2]\n",
    "        return int(fib[n])"
   ]
  },
  {
   "cell_type": "code",
   "execution_count": 24,
   "metadata": {},
   "outputs": [
    {
     "data": {
      "text/plain": [
       "22698374052006868279099392"
      ]
     },
     "execution_count": 24,
     "metadata": {},
     "output_type": "execute_result"
    }
   ],
   "source": [
    "fibonacci(f)"
   ]
  },
  {
   "cell_type": "markdown",
   "metadata": {
    "id": "1Aezlw_x4Kei"
   },
   "source": [
    "\n",
    "6. Entrar un arreglo de números y ordenarlos de forma ascendente, Ver algoritmo\n",
    "[Quicksort](https://es.wikipedia.org/wiki/Quicksort). \n",
    "\n",
    "\n",
    "```python\n",
    "\n",
    "\n",
    "<<< v = [22, 32, 42, 12, 22, 31, 41, 11, 12, 232, 24, 12, 22]\n",
    "<<< def quicksort(v):\n",
    "\n",
    "<<<     return v\n",
    "<<< w = print(quicksort(v))\n",
    "<<< [11, 12, 12, 12, 22, 22, 22, 24, 31, 32, 41, 42, 232]\n",
    "\n",
    "```\n",
    "\n",
    "Sólo para comprobar tu código,  puedes hacer uso del comando sort de python. \n",
    "```python\n",
    "<<< b = [22, 32, 42, 12, 22, 31, 41, 11, 12, 232, 24, 12, 22]\n",
    "\n",
    "<<< print(b.sort())\n",
    "\n",
    "<<< [11, 12, 12, 12, 22, 22, 22, 24, 31, 32, 41, 42, 232]\n",
    "```"
   ]
  },
  {
   "cell_type": "code",
   "execution_count": 25,
   "metadata": {},
   "outputs": [
    {
     "name": "stdin",
     "output_type": "stream",
     "text": [
      "Ingrese un número para agregar a la lista. Cuando quiera finalizar escriba FIN: 25\n",
      "Ingrese un número para agregar a la lista. Cuando quiera finalizar escriba FIN: 25\n",
      "Ingrese un número para agregar a la lista. Cuando quiera finalizar escriba FIN: 3\n",
      "Ingrese un número para agregar a la lista. Cuando quiera finalizar escriba FIN: -3.16\n",
      "Ingrese un número para agregar a la lista. Cuando quiera finalizar escriba FIN: 2.71828\n",
      "Ingrese un número para agregar a la lista. Cuando quiera finalizar escriba FIN: 6.62606e-34\n",
      "Ingrese un número para agregar a la lista. Cuando quiera finalizar escriba FIN: 1.57\n",
      "Ingrese un número para agregar a la lista. Cuando quiera finalizar escriba FIN: 321\n",
      "Ingrese un número para agregar a la lista. Cuando quiera finalizar escriba FIN: 6.022e23\n",
      "Ingrese un número para agregar a la lista. Cuando quiera finalizar escriba FIN: fin\n"
     ]
    },
    {
     "name": "stdout",
     "output_type": "stream",
     "text": [
      "Muchas gracias. La lista es: [25.0, 25.0, 3.0, -3.16, 2.71828, 6.62606e-34, 1.57, 321.0, 6.022e+23]\n"
     ]
    }
   ],
   "source": [
    "l=[]\n",
    "while True:\n",
    "    try:\n",
    "        n=float(input('Ingrese un número para agregar a la lista. Cuando quiera finalizar escriba FIN:')) #ask user for a number\n",
    "        l.append(n)\n",
    "    except:\n",
    "        print(f'Muchas gracias. La lista es: {l}')   #prints the list\n",
    "        break"
   ]
  },
  {
   "cell_type": "code",
   "execution_count": 26,
   "metadata": {},
   "outputs": [],
   "source": [
    "def quicksort(a):\n",
    "    if a==[]:\n",
    "        return a\n",
    "    else:\n",
    "        mayores=[]\n",
    "        menores=[]\n",
    "        iguales=[]\n",
    "        pivote=np.random.choice(a)\n",
    "        for x in a:\n",
    "            if x > pivote:\n",
    "                mayores.append(x)\n",
    "            elif x < pivote:\n",
    "                menores.append(x)\n",
    "            else:\n",
    "                iguales.append(x)\n",
    "        return quicksort(menores)+iguales+quicksort(mayores)"
   ]
  },
  {
   "cell_type": "code",
   "execution_count": 27,
   "metadata": {},
   "outputs": [
    {
     "data": {
      "text/plain": [
       "[-3.16, 6.62606e-34, 1.57, 2.71828, 3.0, 25.0, 25.0, 321.0, 6.022e+23]"
      ]
     },
     "execution_count": 27,
     "metadata": {},
     "output_type": "execute_result"
    }
   ],
   "source": [
    "quicksort(l)"
   ]
  },
  {
   "cell_type": "code",
   "execution_count": 28,
   "metadata": {},
   "outputs": [
    {
     "data": {
      "text/plain": [
       "[-3.16, 6.62606e-34, 1.57, 2.71828, 3.0, 25.0, 25.0, 321.0, 6.022e+23]"
      ]
     },
     "execution_count": 28,
     "metadata": {},
     "output_type": "execute_result"
    }
   ],
   "source": [
    "l.sort()\n",
    "l"
   ]
  },
  {
   "cell_type": "markdown",
   "metadata": {
    "id": "BTj0eQBs4Kej",
    "tags": []
   },
   "source": [
    "## REFERENCIAS.\n",
    "[1] Scripts de un curso de python. [Raul Pollan](https://github.com/rramosp/20182.pcomp)  \n",
    "\n",
    "[2] [Fundamenteos de programación](https://sites.google.com/site/funpropoli/ejercicios-practicos)\n",
    "\n",
    "[3] Scripts de un curso de python. [Fernando Perez](https://github.com/fperez)\n"
   ]
  }
 ],
 "metadata": {
  "colab": {
   "collapsed_sections": [],
   "name": "taller000.ipynb",
   "provenance": []
  },
  "kernelspec": {
   "display_name": "Python 3 (ipykernel)",
   "language": "python",
   "name": "python3"
  },
  "language_info": {
   "codemirror_mode": {
    "name": "ipython",
    "version": 3
   },
   "file_extension": ".py",
   "mimetype": "text/x-python",
   "name": "python",
   "nbconvert_exporter": "python",
   "pygments_lexer": "ipython3",
   "version": "3.9.9"
  }
 },
 "nbformat": 4,
 "nbformat_minor": 4
}
